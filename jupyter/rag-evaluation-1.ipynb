{
 "cells": [
  {
   "cell_type": "code",
   "execution_count": null,
   "metadata": {},
   "outputs": [],
   "source": [
    "from transformers import BertModel, BertTokenizer, DPRQuestionEncoder, DPRQuestionEncoderTokenizer, RobertaModel, RobertaTokenizer\n",
    "from sentence_transformers import SentenceTransformer\n",
    "from langchain.embeddings.base import Embeddings\n",
    "import torch\n",
    "\n",
    "class DPRQuestionEncoderEmbeddings(Embeddings):\n",
    "    def __init__(self, model_name: str = 'facebook/dpr-question_encoder-single-nq-base'):\n",
    "        self.tokenizer = DPRQuestionEncoderTokenizer.from_pretrained(model_name)\n",
    "        self.model = DPRQuestionEncoder.from_pretrained(model_name)\n",
    "        \n",
    "    def embed(self, texts):\n",
    "        # Ensure texts is a list\n",
    "        if isinstance(texts, str):\n",
    "            texts = [texts]\n",
    "        \n",
    "        embeddings = []\n",
    "        for text in texts:\n",
    "            inputs = self.tokenizer(text, return_tensors='pt')\n",
    "            outputs = self.model(**inputs)\n",
    "            embedding = outputs.pooler_output.detach().numpy()[0]\n",
    "            embeddings.append(embedding.tolist())\n",
    "        \n",
    "        return embeddings\n",
    "    \n",
    "    def embed_documents(self, documents):\n",
    "        return self.embed(documents)\n",
    "    \n",
    "    def embed_query(self, query):\n",
    "        return self.embed([query])[0]\n"
   ]
  },
  {
   "cell_type": "code",
   "execution_count": 1,
   "metadata": {},
   "outputs": [
    {
     "name": "stderr",
     "output_type": "stream",
     "text": [
      "/home/cgrodrigues/.pyenv/versions/3.11.9/envs/.venv/lib/python3.11/site-packages/tqdm/auto.py:21: TqdmWarning: IProgress not found. Please update jupyter and ipywidgets. See https://ipywidgets.readthedocs.io/en/stable/user_install.html\n",
      "  from .autonotebook import tqdm as notebook_tqdm\n",
      "Some weights of the model checkpoint at facebook/dpr-ctx_encoder-single-nq-base were not used when initializing DPRContextEncoder: ['ctx_encoder.bert_model.pooler.dense.bias', 'ctx_encoder.bert_model.pooler.dense.weight']\n",
      "- This IS expected if you are initializing DPRContextEncoder from the checkpoint of a model trained on another task or with another architecture (e.g. initializing a BertForSequenceClassification model from a BertForPreTraining model).\n",
      "- This IS NOT expected if you are initializing DPRContextEncoder from the checkpoint of a model that you expect to be exactly identical (initializing a BertForSequenceClassification model from a BertForSequenceClassification model).\n",
      "The tokenizer class you load from this checkpoint is not the same type as the class this function is called from. It may result in unexpected tokenization. \n",
      "The tokenizer class you load from this checkpoint is 'DPRQuestionEncoderTokenizer'. \n",
      "The class this function is called from is 'DPRContextEncoderTokenizer'.\n"
     ]
    },
    {
     "name": "stdout",
     "output_type": "stream",
     "text": [
      "Dataset({\n",
      "    features: ['question', 'answer', 'contexts', 'ground_truth'],\n",
      "    num_rows: 89\n",
      "})\n"
     ]
    },
    {
     "name": "stderr",
     "output_type": "stream",
     "text": [
      "Evaluating:  40%|████      | 143/356 [1:12:40<1:08:10, 19.20s/it]Failed to parse output. Returning None.\n",
      "Evaluating: 100%|██████████| 356/356 [2:43:23<00:00, 27.54s/it]  \n"
     ]
    },
    {
     "name": "stdout",
     "output_type": "stream",
     "text": [
      "{'faithfulness': 0.6108, 'answer_relevancy': 0.2781, 'context_precision': 0.2584, 'context_recall': 0.3764}\n"
     ]
    }
   ],
   "source": [
    "from rag_1 import get_questions_answers_contexts\n",
    "from ragas import evaluate\n",
    "from ragas.metrics import (\n",
    "        context_precision,\n",
    "        faithfulness,\n",
    "        answer_relevancy,\n",
    "        context_recall\n",
    ")\n",
    "from langchain_community.chat_models import ChatOllama\n",
    "\n",
    "\n",
    "# The list of metrics that we want to evaluate\n",
    "metrics = [\n",
    "    faithfulness,\n",
    "    answer_relevancy,\n",
    "    context_precision,\n",
    "    context_recall\n",
    "]\n",
    "\n",
    "# We will use our local ollama with the LLaMA 3 model\n",
    "langchain_llm =  ChatOllama(model=\"llama3\")\n",
    "langchain_embeddings = DPRQuestionEncoderEmbeddings('facebook/dpr-question_encoder-single-nq-base')\n",
    "\n",
    "# Return the ragas dataset\n",
    "rag_dataset = get_questions_answers_contexts(store_name=\"documents-1\")\n",
    "print(rag_dataset)\n",
    "\n",
    "# Return the metrics\n",
    "results = evaluate(rag_dataset, metrics=metrics, llm=langchain_llm, embeddings=langchain_embeddings)\n",
    "print(results)"
   ]
  }
 ],
 "metadata": {
  "kernelspec": {
   "display_name": ".venv",
   "language": "python",
   "name": "python3"
  },
  "language_info": {
   "codemirror_mode": {
    "name": "ipython",
    "version": 3
   },
   "file_extension": ".py",
   "mimetype": "text/x-python",
   "name": "python",
   "nbconvert_exporter": "python",
   "pygments_lexer": "ipython3",
   "version": "3.11.9"
  }
 },
 "nbformat": 4,
 "nbformat_minor": 2
}
