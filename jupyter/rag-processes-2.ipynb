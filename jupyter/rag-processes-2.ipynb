{
 "cells": [
  {
   "cell_type": "code",
   "execution_count": 1,
   "metadata": {},
   "outputs": [
    {
     "name": "stderr",
     "output_type": "stream",
     "text": [
      "/home/cgrodrigues/.pyenv/versions/3.11.9/envs/.venv/lib/python3.11/site-packages/tqdm/auto.py:21: TqdmWarning: IProgress not found. Please update jupyter and ipywidgets. See https://ipywidgets.readthedocs.io/en/stable/user_install.html\n",
      "  from .autonotebook import tqdm as notebook_tqdm\n"
     ]
    }
   ],
   "source": [
    "from rag_2 import parse_experiments, init_chroma_db, preprocess_text_to_chroma, get_inference, chunk_embed_text\n",
    "from transformers import BertModel, BertTokenizer, DPRQuestionEncoder, DPRQuestionEncoderTokenizer, RobertaModel, RobertaTokenizer\n",
    "from sentence_transformers import SentenceTransformer\n",
    "import torch\n",
    "\n",
    "class BertEmbeddings:\n",
    "    def __init__(self, model_name='bert-base-uncased'):\n",
    "        self.tokenizer = BertTokenizer.from_pretrained(model_name)\n",
    "        self.model = BertModel.from_pretrained(model_name)\n",
    "\n",
    "    def embeddings(self, text: str):\n",
    "        inputs = self.tokenizer(text, return_tensors='pt')\n",
    "        outputs = self.model(**inputs)\n",
    "        return outputs.pooler_output.detach().numpy()[0].tolist()\n",
    "    \n",
    "\n",
    "class RobertaEmbeddings:\n",
    "    def __init__(self, model_name='roberta-base'):\n",
    "        self.tokenizer = RobertaTokenizer.from_pretrained(model_name)\n",
    "        self.model = RobertaModel.from_pretrained(model_name)\n",
    "\n",
    "    def embeddings(self, text: str):\n",
    "        inputs = self.tokenizer(text, return_tensors='pt')\n",
    "        outputs = self.model(**inputs)\n",
    "        return outputs.pooler_output.detach().numpy()[0].tolist()\n",
    "    \n",
    "class SentenceBertEmbeddings:\n",
    "    def __init__(self, model_name='paraphrase-MiniLM-L6-v2'):\n",
    "        self.model = SentenceTransformer(model_name)\n",
    "\n",
    "    def embeddings(self, text: str):\n",
    "        return self.model.encode(text).tolist()\n",
    "    \n",
    "class DprEmbeddings:\n",
    "    def __init__(self, model_name='facebook/dpr-question_encoder-single-nq-base'):\n",
    "        self.tokenizer = DPRQuestionEncoderTokenizer.from_pretrained(model_name)\n",
    "        self.model = DPRQuestionEncoder.from_pretrained(model_name)\n",
    "\n",
    "    def embeddings(self, text: str):\n",
    "        inputs = self.tokenizer(text, return_tensors='pt')\n",
    "        outputs = self.model(**inputs)\n",
    "        return outputs.pooler_output.detach().numpy()[0].tolist()\n"
   ]
  },
  {
   "cell_type": "code",
   "execution_count": 2,
   "metadata": {},
   "outputs": [
    {
     "name": "stderr",
     "output_type": "stream",
     "text": [
      "/home/cgrodrigues/.pyenv/versions/3.11.9/envs/.venv/lib/python3.11/site-packages/huggingface_hub/file_download.py:1132: FutureWarning: `resume_download` is deprecated and will be removed in version 1.0.0. Downloads always resume when possible. If you want to force a new download, use `force_download=True`.\n",
      "  warnings.warn(\n"
     ]
    }
   ],
   "source": [
    "    \n",
    "get_embeddings = SentenceBertEmbeddings() \n",
    "#Who led the Experiment 1?\n",
    "\n",
    "# Get the secret experiment text\n",
    "text = parse_experiments()\n",
    "\n",
    "# Get the Vector Database Client\n",
    "chroma_client, vector_store = init_chroma_db(\"documents-2\")\n",
    "\n",
    "# Put the secret experiments in the vector database\n",
    "preprocess_text_to_chroma(text=text, get_embeddings=get_embeddings, vector_store=vector_store)"
   ]
  },
  {
   "cell_type": "code",
   "execution_count": 3,
   "metadata": {},
   "outputs": [
    {
     "name": "stdout",
     "output_type": "stream",
     "text": [
      "\n",
      "================================\n",
      "\n",
      "Prompt: DOCUMENT:\n",
      "# Experiment 1\n",
      "## May 23, 2024\n",
      "The first experiment focused on using palladium electrodes submerged in heavy water (deuterium oxide, D2O). Dr. Emily D. Jensen, Senior Physicist, led this trial. The procedure involved electrolysis at a constant current of 50 mA, aiming to induce cold fusion within the palladium lattice. Throughout the 12-hour process, temperatures were carefully monitored, maintaining a steady 25°C. Voltage readings were recorded every hour to observe any anomalies indicating fusion events. The experiment yielded promising preliminary results with minor heat generation detected, suggesting potential excess energy beyond chemical reactions.\n",
      "To ensure accuracy, additional measurements included the analysis of gas output. Both hydrogen and deuterium gas levels were monitored using a gas chromatograph, which revealed an increase in deuterium gas concentration over time. This increase suggested that deuterium nuclei might be fusing within the palladium lattice. Further isotopic analysis using mass spectrometry confirmed the presence of helium-4, a potential byproduct of fusion, indicating that cold fusion might indeed be occurring.\n",
      "# Experiment 20\n",
      "## June 11, 2024\n",
      "Dr. Hiroshi N. Tanaka, Chief Scientist, conducted an experiment using a combination of palladium and silver electrodes. Heavy water with a lithium chloride additive served as the electrolyte. Electrolysis was performed at 100 mA, with temperatures maintained at 30°C. Voltage and temperature readings were taken every 10 minutes. The experiment showed significant heat generation, with energy output surpassing input by 25% after 8 hours. The combination of palladium and silver, along with the lithium chloride electrolyte, proved to be highly effective in enhancing cold fusion reactions.\n",
      "Additional investigations included monitoring the electrodes' structural integrity using SEM and XRD. The analysis revealed substantial deuterium absorption and lattice changes within the palladium-silver electrodes. Isotopic analysis of the electrolyte showed increased helium-4 and tritium content, supporting the occurrence of fusion reactions. Neutron and gamma radiation monitoring confirmed increased emissions, consistent with nuclear activity. The palladium-silver combination demonstrated a unique synergy, enhancing the cold fusion process significantly.\n",
      "# Experiment 14\n",
      "## June 5, 2024\n",
      "Dr. John O. Lewis, Lead Engineer, conducted an experiment using a combination of palladium and titanium electrodes. Heavy water with a sodium hydroxide additive served as the electrolyte. Electrolysis was performed at 85 mA, with temperatures controlled between 29°C and 34°C. Voltage and temperature readings were taken every 10 minutes. The experiment showed significant heat generation, with energy output surpassing input by 20% after 8 hours. The combination of materials and electrolyte composition proved effective in enhancing cold fusion reactions.\n",
      "Additional tests included monitoring the structural changes in the electrodes using SEM and XRD. The analysis revealed substantial deuterium absorption and lattice changes within the palladium-titanium electrodes. Isotopic analysis of the electrolyte showed increased helium-4 and tritium content, supporting the occurrence of fusion reactions. Neutron and gamma radiation monitoring confirmed increased emissions, consistent with nuclear activity. The palladium-titanium combination demonstrated a unique synergy, enhancing the cold fusion process.\n",
      "\n",
      "QUESTION:\n",
      "#Who led the Experiment 1?\n",
      "\n",
      "INSTRUCTIONS:\n",
      "Answer the users QUESTION using the DOCUMENT markdown text above.\n",
      "Give short and concise answers.\n",
      "Keep your answer ground in the facts of the DOCUMENT.\n",
      "If the DOCUMENT doesn’t contain the facts to answer the QUESTION return 'NONE'\n",
      "\n",
      "================================\n",
      "\n",
      "Database Results: {'ids': [['# Experiment 1_0', '# Experiment 20_0', '# Experiment 14_0']], 'distances': [[41.51626473937829, 42.823877480492996, 43.55648840358813]], 'metadatas': [[None, None, None]], 'embeddings': None, 'documents': [['# Experiment 1\\n## May 23, 2024\\nThe first experiment focused on using palladium electrodes submerged in heavy water (deuterium oxide, D2O). Dr. Emily D. Jensen, Senior Physicist, led this trial. The procedure involved electrolysis at a constant current of 50 mA, aiming to induce cold fusion within the palladium lattice. Throughout the 12-hour process, temperatures were carefully monitored, maintaining a steady 25°C. Voltage readings were recorded every hour to observe any anomalies indicating fusion events. The experiment yielded promising preliminary results with minor heat generation detected, suggesting potential excess energy beyond chemical reactions.\\nTo ensure accuracy, additional measurements included the analysis of gas output. Both hydrogen and deuterium gas levels were monitored using a gas chromatograph, which revealed an increase in deuterium gas concentration over time. This increase suggested that deuterium nuclei might be fusing within the palladium lattice. Further isotopic analysis using mass spectrometry confirmed the presence of helium-4, a potential byproduct of fusion, indicating that cold fusion might indeed be occurring.', \"# Experiment 20\\n## June 11, 2024\\nDr. Hiroshi N. Tanaka, Chief Scientist, conducted an experiment using a combination of palladium and silver electrodes. Heavy water with a lithium chloride additive served as the electrolyte. Electrolysis was performed at 100 mA, with temperatures maintained at 30°C. Voltage and temperature readings were taken every 10 minutes. The experiment showed significant heat generation, with energy output surpassing input by 25% after 8 hours. The combination of palladium and silver, along with the lithium chloride electrolyte, proved to be highly effective in enhancing cold fusion reactions.\\nAdditional investigations included monitoring the electrodes' structural integrity using SEM and XRD. The analysis revealed substantial deuterium absorption and lattice changes within the palladium-silver electrodes. Isotopic analysis of the electrolyte showed increased helium-4 and tritium content, supporting the occurrence of fusion reactions. Neutron and gamma radiation monitoring confirmed increased emissions, consistent with nuclear activity. The palladium-silver combination demonstrated a unique synergy, enhancing the cold fusion process significantly.\", '# Experiment 14\\n## June 5, 2024\\nDr. John O. Lewis, Lead Engineer, conducted an experiment using a combination of palladium and titanium electrodes. Heavy water with a sodium hydroxide additive served as the electrolyte. Electrolysis was performed at 85 mA, with temperatures controlled between 29°C and 34°C. Voltage and temperature readings were taken every 10 minutes. The experiment showed significant heat generation, with energy output surpassing input by 20% after 8 hours. The combination of materials and electrolyte composition proved effective in enhancing cold fusion reactions.\\nAdditional tests included monitoring the structural changes in the electrodes using SEM and XRD. The analysis revealed substantial deuterium absorption and lattice changes within the palladium-titanium electrodes. Isotopic analysis of the electrolyte showed increased helium-4 and tritium content, supporting the occurrence of fusion reactions. Neutron and gamma radiation monitoring confirmed increased emissions, consistent with nuclear activity. The palladium-titanium combination demonstrated a unique synergy, enhancing the cold fusion process.']], 'uris': None, 'data': None}\n",
      "\n",
      "================================\n",
      "\n",
      "Response: ANSWER:\n",
      "Dr. Emily D. Jensen, Senior Physicist, led Experiment 1.\n",
      "\n",
      "================================\n",
      "\n"
     ]
    }
   ],
   "source": [
    "# Get the query from the end user, search in the vector database.\n",
    "question = input(\"Please enter question: \")\n",
    "\n",
    "# Prepara the data and get the answer\n",
    "response, prompt, db_results = get_inference(question, get_embeddings, vector_store)\n",
    "\n",
    "print(\"\\n================================\\n\")\n",
    "print(f\"Prompt: {prompt}\")\n",
    "print(\"\\n================================\\n\")\n",
    "print(f\"Database Results: {db_results}\")\n",
    "print(\"\\n================================\\n\")\n",
    "print(f\"Response: {response['message']['content']}\")\n",
    "print(\"\\n================================\\n\")"
   ]
  }
 ],
 "metadata": {
  "kernelspec": {
   "display_name": ".venv",
   "language": "python",
   "name": "python3"
  },
  "language_info": {
   "codemirror_mode": {
    "name": "ipython",
    "version": 3
   },
   "file_extension": ".py",
   "mimetype": "text/x-python",
   "name": "python",
   "nbconvert_exporter": "python",
   "pygments_lexer": "ipython3",
   "version": "3.11.9"
  }
 },
 "nbformat": 4,
 "nbformat_minor": 2
}
