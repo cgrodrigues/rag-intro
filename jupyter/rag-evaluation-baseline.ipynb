{
 "cells": [
  {
   "cell_type": "code",
   "execution_count": 2,
   "metadata": {},
   "outputs": [
    {
     "name": "stderr",
     "output_type": "stream",
     "text": [
      "Some weights of the model checkpoint at facebook/dpr-ctx_encoder-single-nq-base were not used when initializing DPRContextEncoder: ['ctx_encoder.bert_model.pooler.dense.bias', 'ctx_encoder.bert_model.pooler.dense.weight']\n",
      "- This IS expected if you are initializing DPRContextEncoder from the checkpoint of a model trained on another task or with another architecture (e.g. initializing a BertForSequenceClassification model from a BertForPreTraining model).\n",
      "- This IS NOT expected if you are initializing DPRContextEncoder from the checkpoint of a model that you expect to be exactly identical (initializing a BertForSequenceClassification model from a BertForSequenceClassification model).\n",
      "The tokenizer class you load from this checkpoint is not the same type as the class this function is called from. It may result in unexpected tokenization. \n",
      "The tokenizer class you load from this checkpoint is 'DPRQuestionEncoderTokenizer'. \n",
      "The class this function is called from is 'DPRContextEncoderTokenizer'.\n",
      "Add of existing embedding ID: # Experiment 1_0\n",
      "Add of existing embedding ID: # Experiment 2_0\n",
      "Add of existing embedding ID: # Experiment 3_0\n",
      "Add of existing embedding ID: # Experiment 4_0\n",
      "Add of existing embedding ID: # Experiment 5_0\n",
      "Add of existing embedding ID: # Experiment 6_0\n",
      "Add of existing embedding ID: # Experiment 7_0\n",
      "Add of existing embedding ID: # Experiment 8_0\n",
      "Add of existing embedding ID: # Experiment 9_0\n",
      "Add of existing embedding ID: # Experiment 10_0\n",
      "Add of existing embedding ID: # Experiment 11_0\n",
      "Add of existing embedding ID: # Experiment 12_0\n",
      "Add of existing embedding ID: # Experiment 13_0\n",
      "Add of existing embedding ID: # Experiment 14_0\n",
      "Add of existing embedding ID: # Experiment 15_0\n",
      "Add of existing embedding ID: # Experiment 16_0\n",
      "Add of existing embedding ID: # Experiment 17_0\n",
      "Add of existing embedding ID: # Experiment 18_0\n",
      "Add of existing embedding ID: # Experiment 19_0\n",
      "Add of existing embedding ID: # Experiment 20_0\n"
     ]
    },
    {
     "name": "stdout",
     "output_type": "stream",
     "text": [
      "Dataset({\n",
      "    features: ['question', 'answer', 'contexts', 'ground_truth'],\n",
      "    num_rows: 89\n",
      "})\n"
     ]
    },
    {
     "name": "stderr",
     "output_type": "stream",
     "text": [
      "Evaluating: 100%|██████████| 356/356 [3:51:01<00:00, 38.94s/it]   \n"
     ]
    },
    {
     "name": "stdout",
     "output_type": "stream",
     "text": [
      "{'faithfulness': 0.7205, 'answer_relevancy': 0.5335, 'context_precision': 0.6404, 'context_recall': 0.6813}\n"
     ]
    }
   ],
   "source": [
    "from rag import get_questions_answers_contexts\n",
    "from ragas import evaluate\n",
    "from ragas.metrics import (\n",
    "        context_precision,\n",
    "        faithfulness,\n",
    "        answer_relevancy,\n",
    "        context_recall\n",
    ")\n",
    "from langchain_community.chat_models import ChatOllama\n",
    "from langchain_community.embeddings import OllamaEmbeddings\n",
    "\n",
    "# The list of metrics that we want to evaluate\n",
    "metrics = [\n",
    "    faithfulness,\n",
    "    answer_relevancy,\n",
    "    context_precision,\n",
    "    context_recall\n",
    "]\n",
    "\n",
    "# We will use our local ollama with the LLaMA 3 model\n",
    "langchain_llm =  ChatOllama(model=\"llama3\")\n",
    "langchain_embeddings = OllamaEmbeddings(model=\"llama3\")\n",
    "\n",
    "# Return the ragas dataset\n",
    "rag_dataset = get_questions_answers_contexts(store_name=\"documents\")\n",
    "print(rag_dataset)\n",
    "\n",
    "# Return the metrics\n",
    "results = evaluate(rag_dataset, metrics=metrics, llm=langchain_llm, embeddings=langchain_embeddings)\n",
    "print(results)"
   ]
  }
 ],
 "metadata": {
  "kernelspec": {
   "display_name": ".venv",
   "language": "python",
   "name": "python3"
  },
  "language_info": {
   "codemirror_mode": {
    "name": "ipython",
    "version": 3
   },
   "file_extension": ".py",
   "mimetype": "text/x-python",
   "name": "python",
   "nbconvert_exporter": "python",
   "pygments_lexer": "ipython3",
   "version": "3.11.9"
  }
 },
 "nbformat": 4,
 "nbformat_minor": 2
}
