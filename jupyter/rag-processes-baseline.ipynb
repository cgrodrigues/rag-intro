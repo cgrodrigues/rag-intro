{
 "cells": [
  {
   "cell_type": "code",
   "execution_count": 4,
   "metadata": {},
   "outputs": [],
   "source": [
    "from transformers import DPRContextEncoder, DPRContextEncoderTokenizer\n",
    "from rag import parse_experiments, init_chroma_db, preprocess_text_to_chroma, get_inference"
   ]
  },
  {
   "cell_type": "code",
   "execution_count": 5,
   "metadata": {},
   "outputs": [
    {
     "name": "stderr",
     "output_type": "stream",
     "text": [
      "Some weights of the model checkpoint at facebook/dpr-ctx_encoder-single-nq-base were not used when initializing DPRContextEncoder: ['ctx_encoder.bert_model.pooler.dense.bias', 'ctx_encoder.bert_model.pooler.dense.weight']\n",
      "- This IS expected if you are initializing DPRContextEncoder from the checkpoint of a model trained on another task or with another architecture (e.g. initializing a BertForSequenceClassification model from a BertForPreTraining model).\n",
      "- This IS NOT expected if you are initializing DPRContextEncoder from the checkpoint of a model that you expect to be exactly identical (initializing a BertForSequenceClassification model from a BertForSequenceClassification model).\n",
      "The tokenizer class you load from this checkpoint is not the same type as the class this function is called from. It may result in unexpected tokenization. \n",
      "The tokenizer class you load from this checkpoint is 'DPRQuestionEncoderTokenizer'. \n",
      "The class this function is called from is 'DPRContextEncoderTokenizer'.\n",
      "Add of existing embedding ID: # Experiment 1_0\n",
      "Add of existing embedding ID: # Experiment 2_0\n",
      "Add of existing embedding ID: # Experiment 3_0\n",
      "Add of existing embedding ID: # Experiment 4_0\n",
      "Add of existing embedding ID: # Experiment 5_0\n",
      "Add of existing embedding ID: # Experiment 6_0\n",
      "Add of existing embedding ID: # Experiment 7_0\n",
      "Add of existing embedding ID: # Experiment 8_0\n",
      "Add of existing embedding ID: # Experiment 9_0\n",
      "Add of existing embedding ID: # Experiment 10_0\n",
      "Add of existing embedding ID: # Experiment 11_0\n",
      "Add of existing embedding ID: # Experiment 12_0\n",
      "Add of existing embedding ID: # Experiment 13_0\n",
      "Add of existing embedding ID: # Experiment 14_0\n",
      "Add of existing embedding ID: # Experiment 15_0\n",
      "Add of existing embedding ID: # Experiment 16_0\n",
      "Add of existing embedding ID: # Experiment 17_0\n",
      "Add of existing embedding ID: # Experiment 18_0\n",
      "Add of existing embedding ID: # Experiment 19_0\n",
      "Add of existing embedding ID: # Experiment 20_0\n",
      "Add of existing embedding ID: # Experiment 1_0\n",
      "Add of existing embedding ID: # Experiment 2_0\n",
      "Add of existing embedding ID: # Experiment 3_0\n",
      "Add of existing embedding ID: # Experiment 4_0\n",
      "Add of existing embedding ID: # Experiment 5_0\n",
      "Add of existing embedding ID: # Experiment 6_0\n",
      "Add of existing embedding ID: # Experiment 7_0\n",
      "Add of existing embedding ID: # Experiment 8_0\n",
      "Add of existing embedding ID: # Experiment 9_0\n",
      "Add of existing embedding ID: # Experiment 10_0\n",
      "Add of existing embedding ID: # Experiment 11_0\n",
      "Add of existing embedding ID: # Experiment 12_0\n",
      "Add of existing embedding ID: # Experiment 13_0\n",
      "Add of existing embedding ID: # Experiment 14_0\n",
      "Add of existing embedding ID: # Experiment 15_0\n",
      "Add of existing embedding ID: # Experiment 16_0\n",
      "Add of existing embedding ID: # Experiment 17_0\n",
      "Add of existing embedding ID: # Experiment 18_0\n",
      "Add of existing embedding ID: # Experiment 19_0\n",
      "Add of existing embedding ID: # Experiment 20_0\n",
      "Insert of existing embedding ID: # Experiment 1_0\n",
      "Insert of existing embedding ID: # Experiment 2_0\n",
      "Insert of existing embedding ID: # Experiment 3_0\n",
      "Insert of existing embedding ID: # Experiment 4_0\n",
      "Insert of existing embedding ID: # Experiment 5_0\n",
      "Insert of existing embedding ID: # Experiment 6_0\n",
      "Insert of existing embedding ID: # Experiment 7_0\n",
      "Insert of existing embedding ID: # Experiment 8_0\n",
      "Insert of existing embedding ID: # Experiment 9_0\n",
      "Insert of existing embedding ID: # Experiment 10_0\n",
      "Insert of existing embedding ID: # Experiment 11_0\n",
      "Insert of existing embedding ID: # Experiment 12_0\n",
      "Insert of existing embedding ID: # Experiment 13_0\n",
      "Insert of existing embedding ID: # Experiment 14_0\n",
      "Insert of existing embedding ID: # Experiment 15_0\n",
      "Insert of existing embedding ID: # Experiment 16_0\n",
      "Insert of existing embedding ID: # Experiment 17_0\n",
      "Insert of existing embedding ID: # Experiment 18_0\n",
      "Insert of existing embedding ID: # Experiment 19_0\n",
      "Insert of existing embedding ID: # Experiment 20_0\n"
     ]
    }
   ],
   "source": [
    "    \n",
    "# Get the secret experiment text\n",
    "text = parse_experiments()\n",
    "\n",
    "# Get the Vector Database Client\n",
    "chroma_client, vector_store = init_chroma_db(\"documents\")\n",
    "\n",
    "# Put the secret experiments in the vector database\n",
    "preprocess_text_to_chroma(text=text, vector_store=vector_store, chunk_size=0, overlap_size=0)"
   ]
  },
  {
   "cell_type": "code",
   "execution_count": 6,
   "metadata": {},
   "outputs": [
    {
     "name": "stderr",
     "output_type": "stream",
     "text": [
      "Some weights of the model checkpoint at facebook/dpr-ctx_encoder-single-nq-base were not used when initializing DPRContextEncoder: ['ctx_encoder.bert_model.pooler.dense.bias', 'ctx_encoder.bert_model.pooler.dense.weight']\n",
      "- This IS expected if you are initializing DPRContextEncoder from the checkpoint of a model trained on another task or with another architecture (e.g. initializing a BertForSequenceClassification model from a BertForPreTraining model).\n",
      "- This IS NOT expected if you are initializing DPRContextEncoder from the checkpoint of a model that you expect to be exactly identical (initializing a BertForSequenceClassification model from a BertForSequenceClassification model).\n",
      "The tokenizer class you load from this checkpoint is not the same type as the class this function is called from. It may result in unexpected tokenization. \n",
      "The tokenizer class you load from this checkpoint is 'DPRQuestionEncoderTokenizer'. \n",
      "The class this function is called from is 'DPRContextEncoderTokenizer'.\n"
     ]
    },
    {
     "name": "stdout",
     "output_type": "stream",
     "text": [
      "\n",
      "================================\n",
      "\n",
      "Prompt: DOCUMENT:\n",
      "# Experiment 1\n",
      "## May 23, 2024\n",
      "The first experiment focused on using palladium electrodes submerged in heavy water (deuterium oxide, D2O). Dr. Emily D. Jensen, Senior Physicist, led this trial. The procedure involved electrolysis at a constant current of 50 mA, aiming to induce cold fusion within the palladium lattice. Throughout the 12-hour process, temperatures were carefully monitored, maintaining a steady 25°C. Voltage readings were recorded every hour to observe any anomalies indicating fusion events. The experiment yielded promising preliminary results with minor heat generation detected, suggesting potential excess energy beyond chemical reactions.\n",
      "To ensure accuracy, additional measurements included the analysis of gas output. Both hydrogen and deuterium gas levels were monitored using a gas chromatograph, which revealed an increase in deuterium gas concentration over time. This increase suggested that deuterium nuclei might be fusing within the palladium lattice. Further isotopic analysis using mass spectrometry confirmed the presence of helium-4, a potential byproduct of fusion, indicating that cold fusion might indeed be occurring.\n",
      "# Experiment 6\n",
      "## May 28, 2024\n",
      "In this experiment, Dr. Ahmed H. Rashid, Lead Engineer, used a hybrid electrolyte containing heavy water and a small concentration of sodium hydroxide. Palladium electrodes were again employed, with the electrolysis current set at 90 mA. The temperature was maintained at 33°C, with readings taken every 10 minutes. Over 10 hours, there was a steady increase in heat production, reaching an energy output surpassing input by 20%. The sodium hydroxide appeared to facilitate better deuterium absorption, enhancing the cold fusion process.\n",
      "Neutron detection and gamma radiation monitoring were employed to further understand the reaction dynamics. The neutron counts were significantly higher than the baseline, indicating increased fusion activity. Additionally, gamma radiation levels were monitored and found to be consistent with the fusion events. The electrolyte solution was analyzed post-experiment, revealing increased helium-4 content, further supporting the occurrence of fusion reactions. The palladium electrodes exhibited significant deuterium uptake, confirmed by post-experiment isotopic analysis.\n",
      "# Experiment 11\n",
      "## June 2, 2024\n",
      "Dr. Maria J. Lopez, Junior Researcher, conducted an experiment using a combination of palladium and gold electrodes. Heavy water with a potassium carbonate additive served as the electrolyte. Electrolysis was performed at 95 mA, with temperatures maintained at 32°C. Voltage and temperature readings were taken every 10 minutes. The experiment showed a significant increase in heat output, with energy exceeding input by 19% after 8 hours. The combination of palladium and gold proved to be effective in enhancing cold fusion reactions.\n",
      "Additional tests included monitoring the electrodes' structural integrity using SEM and XRD. The analysis revealed significant deuterium absorption and lattice changes within the palladium-gold electrodes. Isotopic analysis of the electrolyte showed increased helium-4 and tritium content, supporting the occurrence of fusion reactions. Neutron and gamma radiation monitoring confirmed increased emissions, consistent with nuclear activity. The palladium-gold combination demonstrated a unique synergy, enhancing the cold fusion process.\n",
      "\n",
      "QUESTION:\n",
      "Who led the first experiment?\n",
      "\n",
      "INSTRUCTIONS:\n",
      "Answer the users QUESTION using the DOCUMENT text above.\n",
      "Give short and concise answers.\n",
      "Keep your answer ground in the facts of the DOCUMENT.\n",
      "If the DOCUMENT doesn’t contain the facts to answer the QUESTION return 'NONE'\n",
      "\n",
      "================================\n",
      "\n",
      "Database Results: {'ids': [['# Experiment 1_0', '# Experiment 6_0', '# Experiment 11_0']], 'distances': [[188.41211816189255, 191.2033599205535, 194.7212749923776]], 'metadatas': [[None, None, None]], 'embeddings': None, 'documents': [['# Experiment 1\\n## May 23, 2024\\nThe first experiment focused on using palladium electrodes submerged in heavy water (deuterium oxide, D2O). Dr. Emily D. Jensen, Senior Physicist, led this trial. The procedure involved electrolysis at a constant current of 50 mA, aiming to induce cold fusion within the palladium lattice. Throughout the 12-hour process, temperatures were carefully monitored, maintaining a steady 25°C. Voltage readings were recorded every hour to observe any anomalies indicating fusion events. The experiment yielded promising preliminary results with minor heat generation detected, suggesting potential excess energy beyond chemical reactions.\\nTo ensure accuracy, additional measurements included the analysis of gas output. Both hydrogen and deuterium gas levels were monitored using a gas chromatograph, which revealed an increase in deuterium gas concentration over time. This increase suggested that deuterium nuclei might be fusing within the palladium lattice. Further isotopic analysis using mass spectrometry confirmed the presence of helium-4, a potential byproduct of fusion, indicating that cold fusion might indeed be occurring.', '# Experiment 6\\n## May 28, 2024\\nIn this experiment, Dr. Ahmed H. Rashid, Lead Engineer, used a hybrid electrolyte containing heavy water and a small concentration of sodium hydroxide. Palladium electrodes were again employed, with the electrolysis current set at 90 mA. The temperature was maintained at 33°C, with readings taken every 10 minutes. Over 10 hours, there was a steady increase in heat production, reaching an energy output surpassing input by 20%. The sodium hydroxide appeared to facilitate better deuterium absorption, enhancing the cold fusion process.\\nNeutron detection and gamma radiation monitoring were employed to further understand the reaction dynamics. The neutron counts were significantly higher than the baseline, indicating increased fusion activity. Additionally, gamma radiation levels were monitored and found to be consistent with the fusion events. The electrolyte solution was analyzed post-experiment, revealing increased helium-4 content, further supporting the occurrence of fusion reactions. The palladium electrodes exhibited significant deuterium uptake, confirmed by post-experiment isotopic analysis.', \"# Experiment 11\\n## June 2, 2024\\nDr. Maria J. Lopez, Junior Researcher, conducted an experiment using a combination of palladium and gold electrodes. Heavy water with a potassium carbonate additive served as the electrolyte. Electrolysis was performed at 95 mA, with temperatures maintained at 32°C. Voltage and temperature readings were taken every 10 minutes. The experiment showed a significant increase in heat output, with energy exceeding input by 19% after 8 hours. The combination of palladium and gold proved to be effective in enhancing cold fusion reactions.\\nAdditional tests included monitoring the electrodes' structural integrity using SEM and XRD. The analysis revealed significant deuterium absorption and lattice changes within the palladium-gold electrodes. Isotopic analysis of the electrolyte showed increased helium-4 and tritium content, supporting the occurrence of fusion reactions. Neutron and gamma radiation monitoring confirmed increased emissions, consistent with nuclear activity. The palladium-gold combination demonstrated a unique synergy, enhancing the cold fusion process.\"]], 'uris': None, 'data': None}\n",
      "\n",
      "================================\n",
      "\n",
      "Response: ANSWER:\n",
      "Dr. Emily D. Jensen, Senior Physicist, led the first experiment.\n",
      "\n",
      "================================\n",
      "\n"
     ]
    }
   ],
   "source": [
    "# Get the query from the end user, search in the vector database.\n",
    "question = input(\"Please enter question: \")\n",
    "\n",
    "# Get the encoder and tokenizer \n",
    "context_encoder = DPRContextEncoder.from_pretrained(\"facebook/dpr-ctx_encoder-single-nq-base\")\n",
    "context_tokenizer = DPRContextEncoderTokenizer.from_pretrained(\"facebook/dpr-ctx_encoder-single-nq-base\")\n",
    "\n",
    "# Prepara the data and get the answer\n",
    "response, prompt, db_results = get_inference(question, context_encoder, context_tokenizer, vector_store)\n",
    "\n",
    "print(\"\\n================================\\n\")\n",
    "print(f\"Prompt: {prompt}\")\n",
    "print(\"\\n================================\\n\")\n",
    "print(f\"Database Results: {db_results}\")\n",
    "print(\"\\n================================\\n\")\n",
    "print(f\"Response: {response['message']['content']}\")\n",
    "print(\"\\n================================\\n\")"
   ]
  },
  {
   "cell_type": "code",
   "execution_count": 4,
   "metadata": {},
   "outputs": [],
   "source": [
    "# CODE 1\n",
    "\n",
    "\n",
    "from transformers import DPRContextEncoder, DPRContextEncoderTokenizer\n",
    "\n",
    "text = \"apple\"\n",
    "\n",
    "context_encoder = DPRContextEncoder.from_pretrained(\"facebook/dpr-ctx_encoder-single-nq-base\")\n",
    "context_tokenizer = DPRContextEncoderTokenizer.from_pretrained(\"facebook/dpr-ctx_encoder-single-nq-base\")\n",
    "\n",
    "inputs = context_tokenizer(text, return_tensors='pt')\n",
    "embeddings = context_encoder(**inputs).pooler_output.detach().numpy()[0].tolist()\n",
    "print(f\"Embeddings:{embeddings}\")\n",
    "print(f\"Lenght embeddings:{len(embeddings)}\")\n"
   ]
  }
 ],
 "metadata": {
  "kernelspec": {
   "display_name": ".venv",
   "language": "python",
   "name": "python3"
  },
  "language_info": {
   "codemirror_mode": {
    "name": "ipython",
    "version": 3
   },
   "file_extension": ".py",
   "mimetype": "text/x-python",
   "name": "python",
   "nbconvert_exporter": "python",
   "pygments_lexer": "ipython3",
   "version": "3.11.9"
  }
 },
 "nbformat": 4,
 "nbformat_minor": 2
}
