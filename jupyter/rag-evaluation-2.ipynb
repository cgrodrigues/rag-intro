{
 "cells": [
  {
   "cell_type": "code",
   "execution_count": 1,
   "metadata": {},
   "outputs": [
    {
     "name": "stderr",
     "output_type": "stream",
     "text": [
      "/home/cgrodrigues/.pyenv/versions/3.11.9/envs/.venv/lib/python3.11/site-packages/tqdm/auto.py:21: TqdmWarning: IProgress not found. Please update jupyter and ipywidgets. See https://ipywidgets.readthedocs.io/en/stable/user_install.html\n",
      "  from .autonotebook import tqdm as notebook_tqdm\n",
      "/home/cgrodrigues/.pyenv/versions/3.11.9/envs/.venv/lib/python3.11/site-packages/huggingface_hub/file_download.py:1132: FutureWarning: `resume_download` is deprecated and will be removed in version 1.0.0. Downloads always resume when possible. If you want to force a new download, use `force_download=True`.\n",
      "  warnings.warn(\n"
     ]
    }
   ],
   "source": [
    "from transformers import BertModel, BertTokenizer, DPRQuestionEncoder, DPRQuestionEncoderTokenizer, RobertaModel, RobertaTokenizer\n",
    "from sentence_transformers import SentenceTransformer\n",
    "import torch\n",
    "\n",
    "class BertEmbeddings:\n",
    "    def __init__(self, model_name='bert-base-uncased'):\n",
    "        self.tokenizer = BertTokenizer.from_pretrained(model_name)\n",
    "        self.model = BertModel.from_pretrained(model_name)\n",
    "\n",
    "    def embeddings(self, text: str):\n",
    "        inputs = self.tokenizer(text, return_tensors='pt')\n",
    "        outputs = self.model(**inputs)\n",
    "        return outputs.pooler_output.detach().numpy()[0].tolist()\n",
    "    \n",
    "\n",
    "class RobertaEmbeddings:\n",
    "    def __init__(self, model_name='roberta-base'):\n",
    "        self.tokenizer = RobertaTokenizer.from_pretrained(model_name)\n",
    "        self.model = RobertaModel.from_pretrained(model_name)\n",
    "\n",
    "    def embeddings(self, text: str):\n",
    "        inputs = self.tokenizer(text, return_tensors='pt')\n",
    "        outputs = self.model(**inputs)\n",
    "        return outputs.pooler_output.detach().numpy()[0].tolist()\n",
    "    \n",
    "class SentenceBertEmbeddings:\n",
    "    def __init__(self, model_name='paraphrase-MiniLM-L6-v2'):\n",
    "        self.model = SentenceTransformer(model_name)\n",
    "\n",
    "    def embeddings(self, text: str):\n",
    "        return self.model.encode(text).tolist()\n",
    "    \n",
    "class DprEmbeddings:\n",
    "    def __init__(self, model_name='facebook/dpr-question_encoder-single-nq-base'):\n",
    "        self.tokenizer = DPRQuestionEncoderTokenizer.from_pretrained(model_name)\n",
    "        self.model = DPRQuestionEncoder.from_pretrained(model_name)\n",
    "\n",
    "    def embeddings(self, text: str):\n",
    "        inputs = self.tokenizer(text, return_tensors='pt')\n",
    "        outputs = self.model(**inputs)\n",
    "        return outputs.pooler_output.detach().numpy()[0].tolist()\n",
    "\n",
    "\n",
    "get_embeddings = SentenceBertEmbeddings() "
   ]
  },
  {
   "cell_type": "code",
   "execution_count": 2,
   "metadata": {},
   "outputs": [
    {
     "name": "stdout",
     "output_type": "stream",
     "text": [
      "Dataset({\n",
      "    features: ['question', 'answer', 'contexts', 'ground_truth'],\n",
      "    num_rows: 89\n",
      "})\n"
     ]
    },
    {
     "name": "stderr",
     "output_type": "stream",
     "text": [
      "Evaluating:   1%|          | 4/356 [04:16<6:55:29, 70.82s/it]"
     ]
    }
   ],
   "source": [
    "from rag_2 import get_questions_answers_contexts\n",
    "from ragas import evaluate\n",
    "from ragas.metrics import (\n",
    "        context_precision,\n",
    "        faithfulness,\n",
    "        answer_relevancy,\n",
    "        context_recall\n",
    ")\n",
    "from langchain_community.chat_models import ChatOllama\n",
    "from langchain_community.embeddings import OllamaEmbeddings\n",
    "\n",
    "# The list of metrics that we want to evaluate\n",
    "metrics = [\n",
    "    faithfulness,\n",
    "    answer_relevancy,\n",
    "    context_precision,\n",
    "    context_recall\n",
    "]\n",
    "\n",
    "# We will use our local ollama with the LLaMA 3 model\n",
    "langchain_llm =  ChatOllama(model=\"llama3\")\n",
    "langchain_embeddings = OllamaEmbeddings(model=\"llama3\")\n",
    "\n",
    "# Return the ragas dataset\n",
    "rag_dataset = get_questions_answers_contexts(get_embeddings, store_name=\"documents-2\")\n",
    "print(rag_dataset)\n",
    "\n",
    "# Return the metrics\n",
    "results = evaluate(rag_dataset, metrics=metrics, llm=langchain_llm, embeddings=langchain_embeddings)\n",
    "print(results)"
   ]
  }
 ],
 "metadata": {
  "kernelspec": {
   "display_name": ".venv",
   "language": "python",
   "name": "python3"
  },
  "language_info": {
   "codemirror_mode": {
    "name": "ipython",
    "version": 3
   },
   "file_extension": ".py",
   "mimetype": "text/x-python",
   "name": "python",
   "nbconvert_exporter": "python",
   "pygments_lexer": "ipython3",
   "version": "3.11.9"
  }
 },
 "nbformat": 4,
 "nbformat_minor": 2
}
